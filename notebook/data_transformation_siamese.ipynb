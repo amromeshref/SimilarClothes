{
 "cells": [
  {
   "cell_type": "markdown",
   "id": "37b7c180",
   "metadata": {},
   "source": [
    "# Siamese Training: Data Transformation"
   ]
  },
  {
   "cell_type": "markdown",
   "id": "f93b8477",
   "metadata": {},
   "source": [
    "#### General Steps to Follow\n",
    "\n",
    "1. Importing Packages.\n",
    "2. Defining anchor, positive, and negative arrays.\n",
    "2. Preprocessing Data.\n",
    "3. Defining data to be used in training and testing.\n",
    "4. Defining train and test data."
   ]
  },
  {
   "cell_type": "markdown",
   "id": "02593029",
   "metadata": {},
   "source": [
    "### ----------------------------------------------------------------------------------------------------------------------------------------------------------"
   ]
  },
  {
   "cell_type": "markdown",
   "id": "bb162f47",
   "metadata": {},
   "source": [
    "## 1) Importing Packages"
   ]
  },
  {
   "cell_type": "code",
   "execution_count": 1,
   "id": "cd75ccf7",
   "metadata": {},
   "outputs": [],
   "source": [
    "import numpy as np\n",
    "import os\n",
    "import cv2\n",
    "import matplotlib.pyplot as plt"
   ]
  },
  {
   "cell_type": "markdown",
   "id": "4aefccbd",
   "metadata": {},
   "source": [
    "### ----------------------------------------------------------------------------------------------------------------------------------------------------------"
   ]
  },
  {
   "cell_type": "markdown",
   "id": "f4ea189f",
   "metadata": {},
   "source": [
    "## 2) Defining anchor, positive, and negative arrays"
   ]
  },
  {
   "cell_type": "markdown",
   "id": "013a19e9",
   "metadata": {},
   "source": [
    "* \"anchor\" will contain the anchor images.\n",
    "* \"positive\" will contain the positive image and the index of its corresponding the anchor image.\n",
    "* \"negative\" will contain the negative image and the index of its corresponding the anchor image."
   ]
  },
  {
   "cell_type": "code",
   "execution_count": 29,
   "id": "4451ad86",
   "metadata": {},
   "outputs": [],
   "source": [
    "negative = []  # Negative Images\n",
    "anchor   = []  # Anchor Images\n",
    "positive = []  # Positive Images"
   ]
  },
  {
   "cell_type": "code",
   "execution_count": 30,
   "id": "8bb081c5",
   "metadata": {},
   "outputs": [],
   "source": [
    "data_path = \"../data\" #path of the training data"
   ]
  },
  {
   "cell_type": "code",
   "execution_count": 32,
   "id": "36ef17cb",
   "metadata": {},
   "outputs": [],
   "source": [
    "# cloth_type: boots, jeans, ets\n",
    "# training_examples: one triple\n",
    "# triple: anchor, positive, negative\n",
    "\n",
    "anc_index = -1\n",
    "\n",
    "for cloth_type in os.listdir(data_path):\n",
    "    for training_example in os.listdir(data_path + \"/\" + cloth_type):\n",
    "        for triple in os.listdir(data_path + \"/\" + cloth_type + \"/\" + training_example):\n",
    "            \n",
    "            if triple == \"anchor\":\n",
    "                for image in os.listdir(data_path + \"/\" + cloth_type + \"/\" + training_example + \"/\" + triple):\n",
    "                    img = cv2.imread(data_path + \"/\" + cloth_type + \"/\" + training_example + \"/\" + triple + \"/\" +image)\n",
    "                    anchor.append(img)\n",
    "                    anc_index += 1\n",
    "                    del img\n",
    "                    \n",
    "            elif triple == \"negative\":\n",
    "                for image in os.listdir(data_path + \"/\" + cloth_type + \"/\" + training_example + \"/\" + triple):\n",
    "                    img = cv2.imread(data_path + \"/\" + cloth_type + \"/\" + training_example + \"/\" + triple + \"/\" +image)\n",
    "                    negative.append([img,anc_index])\n",
    "                    \n",
    "            else:\n",
    "                for image in os.listdir(data_path + \"/\" + cloth_type + \"/\" + training_example + \"/\" + triple):\n",
    "                    img = cv2.imread(data_path + \"/\" + cloth_type + \"/\" + training_example + \"/\" + triple + \"/\" +image)\n",
    "                    positive.append([img,anc_index])\n",
    "                    del img\n",
    "\n",
    "\n",
    "anchor = np.array(anchor)\n",
    "positive = np.array(positive)\n",
    "negative = np.array(negative)"
   ]
  },
  {
   "cell_type": "code",
   "execution_count": null,
   "id": "3bc6d07d",
   "metadata": {},
   "outputs": [],
   "source": []
  },
  {
   "cell_type": "code",
   "execution_count": null,
   "id": "88c0b954",
   "metadata": {},
   "outputs": [],
   "source": []
  },
  {
   "cell_type": "markdown",
   "id": "55f25b06",
   "metadata": {},
   "source": [
    "##### Saving anchor, positive, and negative arrays into \"other data\" folder"
   ]
  },
  {
   "cell_type": "code",
   "execution_count": 37,
   "id": "be061116",
   "metadata": {},
   "outputs": [],
   "source": [
    "np.save(\"../other data/anchor.npy\", anchor)\n",
    "np.save(\"../other data/positive.npy\", positive)\n",
    "np.save(\"../other data/negative.npy\", negative)"
   ]
  },
  {
   "cell_type": "markdown",
   "id": "98350846",
   "metadata": {},
   "source": [
    "### ----------------------------------------------------------------------------------------------------------------------------------------------------------"
   ]
  },
  {
   "cell_type": "markdown",
   "id": "ee1f427c",
   "metadata": {},
   "source": [
    "## 3) Preprocessing Data"
   ]
  },
  {
   "cell_type": "markdown",
   "id": "67913828",
   "metadata": {},
   "source": [
    "#### We will normalize the images and resize every image to have a size of (105,105,3)"
   ]
  },
  {
   "cell_type": "code",
   "execution_count": 38,
   "id": "4f872606",
   "metadata": {},
   "outputs": [],
   "source": [
    "image_size = (105,105)"
   ]
  },
  {
   "cell_type": "code",
   "execution_count": 39,
   "id": "50ea375c",
   "metadata": {},
   "outputs": [],
   "source": [
    "def preprocessingData(data):\n",
    "    \n",
    "    try: #for anchor data\n",
    "        data_resized = []\n",
    "        for image in data:\n",
    "            image = cv2.resize(image,image_size) #resizing data into (105,105,3)\n",
    "            data_resized.append(image)\n",
    "        data_resized = np.array(data_resized)\n",
    "\n",
    "        #Normalizing the data\n",
    "        data_resized = data_resized/255.0;\n",
    "        \n",
    "    except: #for positive or negative data\n",
    "        data_resized = []\n",
    "        for img in data:\n",
    "            image = img[0]/255.0  #Normalizing the data\n",
    "            anc_index = img[1]\n",
    "            image = cv2.resize(image,image_size) #resizing data into (105,105,3)\n",
    "            data_resized.append([image,anc_index])\n",
    "        data_resized = np.array(data_resized)\n",
    "    \n",
    "    return data_resized"
   ]
  },
  {
   "cell_type": "code",
   "execution_count": 41,
   "id": "c744fce3",
   "metadata": {},
   "outputs": [
    {
     "name": "stderr",
     "output_type": "stream",
     "text": [
      "/tmp/ipykernel_62563/1556204559.py:20: VisibleDeprecationWarning: Creating an ndarray from ragged nested sequences (which is a list-or-tuple of lists-or-tuples-or ndarrays with different lengths or shapes) is deprecated. If you meant to do this, you must specify 'dtype=object' when creating the ndarray.\n",
      "  data_resized = np.array(data_resized)\n"
     ]
    }
   ],
   "source": [
    "anchor_edited = preprocessingData(anchor)\n",
    "positive_edited = preprocessingData(positive)\n",
    "negative_edited = preprocessingData(negative)"
   ]
  },
  {
   "cell_type": "markdown",
   "id": "e71bfd19",
   "metadata": {},
   "source": [
    "##### Saving the edited anchor, positive, and negative arrays into \"other data\" folder"
   ]
  },
  {
   "cell_type": "code",
   "execution_count": 42,
   "id": "f43b6dc4",
   "metadata": {},
   "outputs": [],
   "source": [
    "np.save(\"../other data/anchor_edited.npy\", anchor_edited)\n",
    "np.save(\"../other data/positive_edited.npy\", positive_edited)\n",
    "np.save(\"../other data/negative_edited.npy\", negative_edited)"
   ]
  },
  {
   "cell_type": "markdown",
   "id": "50cc4dc8",
   "metadata": {},
   "source": [
    "### ----------------------------------------------------------------------------------------------------------------------------------------------------------"
   ]
  },
  {
   "cell_type": "markdown",
   "id": "207e58e8",
   "metadata": {},
   "source": [
    "## 4) Defining data to be used in training and testing"
   ]
  },
  {
   "cell_type": "markdown",
   "id": "67515073",
   "metadata": {},
   "source": [
    "* We will compine each anchor image with its corresponding positive image and a label of 1 (They are similar images)\n",
    "* We will compine each anchor image with its corresponding negative image and a label of 0 (They are different images)"
   ]
  },
  {
   "cell_type": "code",
   "execution_count": 43,
   "id": "7808d6a6",
   "metadata": {},
   "outputs": [],
   "source": [
    "data = []  #contains [anchor images, validation images(positive or negative), label(0/1)]"
   ]
  },
  {
   "cell_type": "markdown",
   "id": "c61834e9",
   "metadata": {},
   "source": [
    "#### Adding pairs triples of (anchor image, positive image, 1)"
   ]
  },
  {
   "cell_type": "code",
   "execution_count": 44,
   "id": "61e3cac3",
   "metadata": {},
   "outputs": [],
   "source": [
    "#validation: positive or negative\n",
    "def addPairsToData(validation, label):\n",
    "    for img in validation:\n",
    "        image = img[0]\n",
    "        anc_index = img[1]\n",
    "        data.append([anchor_edited[anc_index],image,label])"
   ]
  },
  {
   "cell_type": "code",
   "execution_count": 45,
   "id": "337c99d2",
   "metadata": {},
   "outputs": [
    {
     "name": "stderr",
     "output_type": "stream",
     "text": [
      "/tmp/ipykernel_62563/571595153.py:3: VisibleDeprecationWarning: Creating an ndarray from ragged nested sequences (which is a list-or-tuple of lists-or-tuples-or ndarrays with different lengths or shapes) is deprecated. If you meant to do this, you must specify 'dtype=object' when creating the ndarray.\n",
      "  data = np.array(data)\n"
     ]
    }
   ],
   "source": [
    "addPairsToData(positive_edited,1)\n",
    "addPairsToData(negative_edited,0)\n",
    "data = np.array(data)"
   ]
  },
  {
   "cell_type": "markdown",
   "id": "1e7f9dd1",
   "metadata": {},
   "source": [
    "##### Visualizing some examples of data"
   ]
  },
  {
   "cell_type": "code",
   "execution_count": 46,
   "id": "8b8a868b",
   "metadata": {},
   "outputs": [
    {
     "name": "stdout",
     "output_type": "stream",
     "text": [
      "\n",
      "Label = 1\n"
     ]
    },
    {
     "data": {
      "image/png": "[encoded data removed]",
      "text/plain": [
       "<Figure size 720x360 with 2 Axes>"
      ]
     },
     "metadata": {
      "needs_background": "light"
     },
     "output_type": "display_data"
    }
   ],
   "source": [
    "index = 514\n",
    "anc = data[index][0]\n",
    "val = data[index][1]\n",
    "label = data[index][2]\n",
    "\n",
    "print(\"\\nLabel =\", label)\n",
    "\n",
    "fig, axes = plt.subplots(1, 2, figsize=(10, 5))\n",
    "# Plot the first image on the first subplot\n",
    "axes[0].imshow(anc)\n",
    "axes[0].set_title('Anchor', color = 'r')\n",
    "\n",
    "# Plot the second image on the second subplot\n",
    "axes[1].imshow(val)\n",
    "axes[1].set_title('Validation', color = 'r')\n",
    "\n",
    "# Adjust the spacing between subplots\n",
    "plt.tight_layout()\n",
    "\n",
    "# Show the figure with both images\n",
    "plt.show()"
   ]
  },
  {
   "cell_type": "markdown",
   "id": "c73c26a5",
   "metadata": {},
   "source": [
    "### ----------------------------------------------------------------------------------------------------------------------------------------------------------"
   ]
  },
  {
   "cell_type": "markdown",
   "id": "e2617296",
   "metadata": {},
   "source": [
    "## 5) Defining train and test data"
   ]
  },
  {
   "cell_type": "markdown",
   "id": "6f9626b1",
   "metadata": {},
   "source": [
    "##### shuffling the elements in data to randomize their order"
   ]
  },
  {
   "cell_type": "code",
   "execution_count": 47,
   "id": "8e63ebaa",
   "metadata": {},
   "outputs": [],
   "source": [
    "np.random.shuffle(data)"
   ]
  },
  {
   "cell_type": "markdown",
   "id": "174383ca",
   "metadata": {},
   "source": [
    "##### Splitting the data: 80% training data, 20% test data "
   ]
  },
  {
   "cell_type": "code",
   "execution_count": 48,
   "id": "07aa146f",
   "metadata": {},
   "outputs": [
    {
     "data": {
      "text/plain": [
       "1202"
      ]
     },
     "execution_count": 48,
     "metadata": {},
     "output_type": "execute_result"
    }
   ],
   "source": [
    "m = len(data)\n",
    "m"
   ]
  },
  {
   "cell_type": "code",
   "execution_count": 49,
   "id": "70af9b05",
   "metadata": {},
   "outputs": [],
   "source": [
    "train_data = data[:961]\n",
    "test_data = data[962:]"
   ]
  },
  {
   "cell_type": "markdown",
   "id": "4cffef92",
   "metadata": {},
   "source": [
    "##### Saving \"train_data\" and \"test_data\" arrays into \"other data\" folder "
   ]
  },
  {
   "cell_type": "code",
   "execution_count": 50,
   "id": "19f37834",
   "metadata": {},
   "outputs": [],
   "source": [
    "np.save(\"../other data/train_data.npy\", train_data)\n",
    "np.save(\"../other data/test_data.npy\", test_data)"
   ]
  },
  {
   "cell_type": "code",
   "execution_count": null,
   "id": "8166a7d7",
   "metadata": {},
   "outputs": [],
   "source": []
  },
  {
   "cell_type": "code",
   "execution_count": null,
   "id": "d2b6e4b2",
   "metadata": {},
   "outputs": [],
   "source": []
  }
 ],
 "metadata": {
  "kernelspec": {
   "display_name": "Python 3 (ipykernel)",
   "language": "python",
   "name": "python3"
  },
  "language_info": {
   "codemirror_mode": {
    "name": "ipython",
    "version": 3
   },
   "file_extension": ".py",
   "mimetype": "text/x-python",
   "name": "python",
   "nbconvert_exporter": "python",
   "pygments_lexer": "ipython3",
   "version": "3.10.12"
  }
 },
 "nbformat": 4,
 "nbformat_minor": 5
}
