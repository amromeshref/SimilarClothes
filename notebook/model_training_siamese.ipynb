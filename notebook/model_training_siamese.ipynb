{
  "cells": [
    {
      "cell_type": "markdown",
      "metadata": {
        "id": "b446e73d"
      },
      "source": [
        "# Siamese Training: Training the Model"
      ],
      "id": "b446e73d"
    },
    {
      "cell_type": "code",
      "execution_count": 1,
      "metadata": {
        "colab": {
          "base_uri": "https://localhost:8080/"
        },
        "id": "JYUG7iM8XQq2",
        "outputId": "fe5f3836-8014-454f-87c7-6181afd0766b"
      },
      "outputs": [
        {
          "output_type": "stream",
          "name": "stdout",
          "text": [
            "Mounted at /content/drive\n"
          ]
        }
      ],
      "source": [
        "from google.colab import drive\n",
        "drive.mount('/content/drive')"
      ],
      "id": "JYUG7iM8XQq2"
    },
    {
      "cell_type": "markdown",
      "metadata": {
        "id": "7b189b9a"
      },
      "source": [
        "#### General Steps to Follow\n",
        "\n",
        "1. Importing Packages\n",
        "2. Defining x_train, x_test, y_train, y_test\n",
        "3. Building and training the siamese network\n",
        "4. Model Evaluation"
      ],
      "id": "7b189b9a"
    },
    {
      "cell_type": "markdown",
      "metadata": {
        "id": "fe3df787"
      },
      "source": [
        "## 1) Importing Packages"
      ],
      "id": "fe3df787"
    },
    {
      "cell_type": "code",
      "execution_count": 3,
      "metadata": {
        "id": "ee08f7af"
      },
      "outputs": [],
      "source": [
        "import numpy as np\n",
        "import tensorflow as tf\n",
        "from tensorflow.keras.models import Sequential, Model\n",
        "from tensorflow.keras.layers import Input, Flatten, Dense, Conv2D, MaxPooling2D, Layer,Concatenate, Lambda, BatchNormalization\n",
        "from tensorflow.keras.optimizers import Adam\n",
        "from tensorflow.keras.losses import BinaryCrossentropy"
      ],
      "id": "ee08f7af"
    },
    {
      "cell_type": "markdown",
      "metadata": {
        "id": "dd681f05"
      },
      "source": [
        "### ----------------------------------------------------------------------------------------------------------------------------------------------------------"
      ],
      "id": "dd681f05"
    },
    {
      "cell_type": "markdown",
      "metadata": {
        "id": "b27ed2b5"
      },
      "source": [
        "## 2) Defining x_train, x_test, y_train, y_test"
      ],
      "id": "b27ed2b5"
    },
    {
      "cell_type": "markdown",
      "metadata": {
        "id": "f0bef2c1"
      },
      "source": [
        "#### Loading the training and test data from \"other data\" folder"
      ],
      "id": "f0bef2c1"
    },
    {
      "cell_type": "code",
      "execution_count": 6,
      "metadata": {
        "id": "f1605e7e"
      },
      "outputs": [],
      "source": [
        "train_data = np.load(\"/content/drive/MyDrive/OpenCV 2023/train_data.npy\", allow_pickle = True)\n",
        "test_data = np.load(\"/content/drive/MyDrive/OpenCV 2023/test_data.npy\"  , allow_pickle = True)"
      ],
      "id": "f1605e7e"
    },
    {
      "cell_type": "markdown",
      "metadata": {
        "id": "7c5247da"
      },
      "source": [
        "* x_train and x_test will contain pairs of the anchor image and the validation image(positive or negative image).\n",
        "* y_train and y_test will contain the label of each pair:\n",
        "  - 1 if the pairs are similar images.\n",
        "  - 0 if the pairs are different images."
      ],
      "id": "7c5247da"
    },
    {
      "cell_type": "code",
      "execution_count": 7,
      "metadata": {
        "id": "990fdc92"
      },
      "outputs": [],
      "source": [
        "x_train = train_data[:,0:2]\n",
        "y_train = train_data[:,2]\n",
        "x_test = test_data[:,0:2]\n",
        "y_test = test_data[:,2]"
      ],
      "id": "990fdc92"
    },
    {
      "cell_type": "markdown",
      "metadata": {
        "id": "996d1518"
      },
      "source": [
        "#### Reshaping the input"
      ],
      "id": "996d1518"
    },
    {
      "cell_type": "code",
      "execution_count": 8,
      "metadata": {
        "id": "d985c0f9"
      },
      "outputs": [],
      "source": [
        "x1_train = x_train[:,0]                   #anchor images\n",
        "x1_train = np.array(x1_train.tolist())\n",
        "x2_train = x_train[:,1]                   #validation images(positive/negative)\n",
        "x2_train = np.array(x2_train.tolist())\n",
        "\n",
        "x1_test = x_test[:,0]                    #anchor images\n",
        "x1_test = np.array(x1_test.tolist())\n",
        "x2_test = x_test[:,1]                    #validation images(positive/negative)\n",
        "x2_test = np.array(x2_test.tolist())\n",
        "\n",
        "y_train = tf.convert_to_tensor(y_train.tolist())\n",
        "y_test = tf.convert_to_tensor(y_test.tolist())"
      ],
      "id": "d985c0f9"
    },
    {
      "cell_type": "markdown",
      "metadata": {
        "id": "40f9ea44"
      },
      "source": [
        "#### Checking the shapes"
      ],
      "id": "40f9ea44"
    },
    {
      "cell_type": "code",
      "execution_count": 9,
      "metadata": {
        "colab": {
          "base_uri": "https://localhost:8080/"
        },
        "id": "243fcf67",
        "outputId": "9827199b-800c-4b6a-b013-23538fb5bd5b"
      },
      "outputs": [
        {
          "output_type": "stream",
          "name": "stdout",
          "text": [
            "Train Data:\n",
            "Shape of anchor images    :  (961, 105, 105, 3)\n",
            "Shape of validation images:  (961, 105, 105, 3)\n",
            "Shape of labels           :  (961,)\n",
            "--------------------------------------------------\n",
            "Test Data:\n",
            "Shape of anchor images    :  (240, 105, 105, 3)\n",
            "Shape of validation images:  (240, 105, 105, 3)\n",
            "Shape of labels           :  (240,)\n"
          ]
        }
      ],
      "source": [
        "print(\"Train Data:\")\n",
        "print(\"Shape of anchor images    : \", x1_train.shape)\n",
        "print(\"Shape of validation images: \", x2_train.shape)\n",
        "print(\"Shape of labels           : \", y_train.shape)\n",
        "\n",
        "print(\"--------------------------------------------------\")\n",
        "\n",
        "print(\"Test Data:\")\n",
        "print(\"Shape of anchor images    : \", x1_test.shape)\n",
        "print(\"Shape of validation images: \", x2_test.shape)\n",
        "print(\"Shape of labels           : \", y_test.shape)"
      ],
      "id": "243fcf67"
    },
    {
      "cell_type": "markdown",
      "metadata": {
        "id": "79c2e7b2"
      },
      "source": [
        "### ----------------------------------------------------------------------------------------------------------------------------------------------------------"
      ],
      "id": "79c2e7b2"
    },
    {
      "cell_type": "markdown",
      "metadata": {
        "id": "d4f59ff7"
      },
      "source": [
        "## 3) Building and training the siamese network"
      ],
      "id": "d4f59ff7"
    },
    {
      "cell_type": "markdown",
      "metadata": {
        "id": "ca21855f"
      },
      "source": [
        "### 3.1 Building the base of the network"
      ],
      "id": "ca21855f"
    },
    {
      "cell_type": "code",
      "execution_count": 10,
      "metadata": {
        "id": "c86a2b81"
      },
      "outputs": [],
      "source": [
        "inp_shape = [105,105,3]"
      ],
      "id": "c86a2b81"
    },
    {
      "cell_type": "code",
      "execution_count": 68,
      "metadata": {
        "id": "126d6031"
      },
      "outputs": [],
      "source": [
        "def make_base_network():\n",
        "    model = Sequential(\n",
        "        [\n",
        "            Input(shape = inp_shape, name = \"input_image\"),\n",
        "\n",
        "            Conv2D(32, (3, 3), activation = 'relu'),\n",
        "            MaxPooling2D(64,(2,2), padding = 'same'),\n",
        "\n",
        "            Conv2D(64, (3, 3), activation = 'relu'),\n",
        "            MaxPooling2D(64,(2,2), padding = 'same'),\n",
        "\n",
        "            Flatten(),\n",
        "\n",
        "            Dense(1024, activation = 'relu'),\n",
        "            BatchNormalization(),\n",
        "        ], name = \"BaseNetwork\"\n",
        "    )\n",
        "\n",
        "    return model"
      ],
      "id": "126d6031"
    },
    {
      "cell_type": "code",
      "execution_count": 69,
      "metadata": {
        "id": "894e8cbb"
      },
      "outputs": [],
      "source": [
        "base_model = make_base_network()"
      ],
      "id": "894e8cbb"
    },
    {
      "cell_type": "code",
      "execution_count": 39,
      "metadata": {
        "colab": {
          "base_uri": "https://localhost:8080/"
        },
        "id": "6d53b253",
        "outputId": "a77aa737-a4f5-4032-85ab-ff4a422910bf"
      },
      "outputs": [
        {
          "output_type": "stream",
          "name": "stdout",
          "text": [
            "Model: \"BaseNetwork\"\n",
            "_________________________________________________________________\n",
            " Layer (type)                Output Shape              Param #   \n",
            "=================================================================\n",
            " conv2d_20 (Conv2D)          (None, 103, 103, 32)      896       \n",
            "                                                                 \n",
            " max_pooling2d_20 (MaxPooli  (None, 52, 52, 32)        0         \n",
            " ng2D)                                                           \n",
            "                                                                 \n",
            " conv2d_21 (Conv2D)          (None, 50, 50, 64)        18496     \n",
            "                                                                 \n",
            " max_pooling2d_21 (MaxPooli  (None, 25, 25, 64)        0         \n",
            " ng2D)                                                           \n",
            "                                                                 \n",
            " flatten_6 (Flatten)         (None, 40000)             0         \n",
            "                                                                 \n",
            " dense_9 (Dense)             (None, 128)               5120128   \n",
            "                                                                 \n",
            " batch_normalization_6 (Bat  (None, 128)               512       \n",
            " chNormalization)                                                \n",
            "                                                                 \n",
            "=================================================================\n",
            "Total params: 5140032 (19.61 MB)\n",
            "Trainable params: 5139776 (19.61 MB)\n",
            "Non-trainable params: 256 (1.00 KB)\n",
            "_________________________________________________________________\n"
          ]
        }
      ],
      "source": [
        "base_model.summary()"
      ],
      "id": "6d53b253"
    },
    {
      "cell_type": "markdown",
      "metadata": {
        "id": "9d5fdc6f"
      },
      "source": [
        "### --------------------------------------------------------------------------------"
      ],
      "id": "9d5fdc6f"
    },
    {
      "cell_type": "markdown",
      "metadata": {
        "id": "4b5b447b"
      },
      "source": [
        "### 3.2 Building tthe L1Dist layer"
      ],
      "id": "4b5b447b"
    },
    {
      "cell_type": "code",
      "execution_count": 14,
      "metadata": {
        "id": "aa24a9a8"
      },
      "outputs": [],
      "source": [
        "class L1Dist(Layer):\n",
        "    def __init__(self, **kwargs):\n",
        "        super(L1Dist, self).__init__(**kwargs)\n",
        "\n",
        "    def call(self, anchor, validation):\n",
        "        return tf.abs(anchor - validation)"
      ],
      "id": "aa24a9a8"
    },
    {
      "cell_type": "markdown",
      "metadata": {
        "id": "c951de60"
      },
      "source": [
        "### --------------------------------------------------------------------------------"
      ],
      "id": "c951de60"
    },
    {
      "cell_type": "markdown",
      "metadata": {
        "id": "84da6cc5"
      },
      "source": [
        "### 3.3 Defining the siamese model"
      ],
      "id": "84da6cc5"
    },
    {
      "cell_type": "code",
      "execution_count": 15,
      "metadata": {
        "id": "d7fb974a"
      },
      "outputs": [],
      "source": [
        "def make_siamese_model():\n",
        "\n",
        "    # Anchor input image to the network\n",
        "    anc_image = Input(shape = inp_shape, name = \"input_image\")\n",
        "\n",
        "    # Validation input image to the network\n",
        "    validation_image = Input(shape = inp_shape, name = \"Validation_image\")\n",
        "\n",
        "    # creating a base model\n",
        "    base_model = make_base_network()\n",
        "\n",
        "    # Encoding the anchor image\n",
        "    anchor = base_model(anc_image)\n",
        "\n",
        "    # Encoding the validation image\n",
        "    validation = base_model(validation_image)\n",
        "\n",
        "    # Using L1Dist Layer to calculate the L1 distance between the two encodings\n",
        "    distance_layer = L1Dist()\n",
        "    distance_layer._name = \"distance_layer\"\n",
        "    distance = distance_layer(anchor, validation)\n",
        "\n",
        "\n",
        "    # Defining the output layer\n",
        "    output_layer = Dense(1, activation = 'linear')(distance)\n",
        "\n",
        "    siamese_model = Model(inputs = [anc_image, validation_image], outputs = output_layer, name = \"SiameseNetwork\")\n",
        "\n",
        "    return siamese_model"
      ],
      "id": "d7fb974a"
    },
    {
      "cell_type": "code",
      "execution_count": 100,
      "metadata": {
        "colab": {
          "base_uri": "https://localhost:8080/"
        },
        "id": "aece1db6",
        "outputId": "a329a1b9-86dd-4034-b8fa-1373b8662520"
      },
      "outputs": [
        {
          "output_type": "stream",
          "name": "stdout",
          "text": [
            "Model: \"SiameseNetwork\"\n",
            "__________________________________________________________________________________________________\n",
            " Layer (type)                Output Shape                 Param #   Connected to                  \n",
            "==================================================================================================\n",
            " input_image (InputLayer)    [(None, 105, 105, 3)]        0         []                            \n",
            "                                                                                                  \n",
            " Validation_image (InputLay  [(None, 105, 105, 3)]        0         []                            \n",
            " er)                                                                                              \n",
            "                                                                                                  \n",
            " BaseNetwork (Sequential)    (None, 1024)                 4098451   ['input_image[0][0]',         \n",
            "                                                          2          'Validation_image[0][0]']    \n",
            "                                                                                                  \n",
            " distance_layer (L1Dist)     (None, 1024)                 0         ['BaseNetwork[0][0]',         \n",
            "                                                                     'BaseNetwork[1][0]']         \n",
            "                                                                                                  \n",
            " dense_33 (Dense)            (None, 1)                    1025      ['distance_layer[0][0]']      \n",
            "                                                                                                  \n",
            "==================================================================================================\n",
            "Total params: 40985537 (156.35 MB)\n",
            "Trainable params: 40983489 (156.34 MB)\n",
            "Non-trainable params: 2048 (8.00 KB)\n",
            "__________________________________________________________________________________________________\n"
          ]
        }
      ],
      "source": [
        "siamese_model = make_siamese_model()\n",
        "siamese_model.summary()"
      ],
      "id": "aece1db6"
    },
    {
      "cell_type": "markdown",
      "metadata": {
        "id": "0835a04b"
      },
      "source": [
        "### --------------------------------------------------------------------------------"
      ],
      "id": "0835a04b"
    },
    {
      "cell_type": "markdown",
      "metadata": {
        "id": "8e821a54"
      },
      "source": [
        "### 3.4 Compiling and training the siamese model"
      ],
      "id": "8e821a54"
    },
    {
      "cell_type": "code",
      "execution_count": 101,
      "metadata": {
        "id": "6ef368ee"
      },
      "outputs": [],
      "source": [
        "siamese_model.compile(\n",
        "    optimizer = Adam(learning_rate = 0.01),\n",
        "    loss = BinaryCrossentropy(from_logits = True)\n",
        ")"
      ],
      "id": "6ef368ee"
    },
    {
      "cell_type": "code",
      "execution_count": 124,
      "metadata": {
        "colab": {
          "base_uri": "https://localhost:8080/"
        },
        "id": "994f3a6d",
        "outputId": "387b079b-c79c-4011-d2e2-6c1b5601e6b3"
      },
      "outputs": [
        {
          "output_type": "stream",
          "name": "stdout",
          "text": [
            "Epoch 1/10\n",
            "16/16 [==============================] - 5s 291ms/step - loss: 0.2155\n",
            "Epoch 2/10\n",
            "16/16 [==============================] - 5s 298ms/step - loss: 0.1977\n",
            "Epoch 3/10\n",
            "16/16 [==============================] - 5s 294ms/step - loss: 0.2451\n",
            "Epoch 4/10\n",
            "16/16 [==============================] - 5s 295ms/step - loss: 0.2140\n",
            "Epoch 5/10\n",
            "16/16 [==============================] - 5s 300ms/step - loss: 0.1746\n",
            "Epoch 6/10\n",
            "16/16 [==============================] - 5s 298ms/step - loss: 0.1925\n",
            "Epoch 7/10\n",
            "16/16 [==============================] - 5s 295ms/step - loss: 0.1774\n",
            "Epoch 8/10\n",
            "16/16 [==============================] - 5s 296ms/step - loss: 0.1897\n",
            "Epoch 9/10\n",
            "16/16 [==============================] - 5s 300ms/step - loss: 0.1727\n",
            "Epoch 10/10\n",
            "16/16 [==============================] - 5s 293ms/step - loss: 0.1631\n"
          ]
        },
        {
          "output_type": "execute_result",
          "data": {
            "text/plain": [
              "<keras.src.callbacks.History at 0x78915759fd30>"
            ]
          },
          "metadata": {},
          "execution_count": 124
        }
      ],
      "source": [
        "siamese_model.fit([x1_train, x2_train], y_train, epochs = 10, batch_size = 64)"
      ],
      "id": "994f3a6d"
    },
    {
      "cell_type": "markdown",
      "metadata": {
        "id": "96a7bf73"
      },
      "source": [
        "### ----------------------------------------------------------------------------------------------------------------------------------------------------------"
      ],
      "id": "96a7bf73"
    },
    {
      "cell_type": "markdown",
      "metadata": {
        "id": "6ddc925a"
      },
      "source": [
        "## 4) Model Evaluation"
      ],
      "id": "6ddc925a"
    },
    {
      "cell_type": "code",
      "execution_count": 74,
      "metadata": {
        "id": "8413db77"
      },
      "outputs": [],
      "source": [
        "def model_eval(y, y_hat):\n",
        "    m = y.shape[0]\n",
        "\n",
        "    y_hat = y_hat.numpy()\n",
        "    y_temp = np.zeros(m, dtype = \"int\")\n",
        "    for i in range(len(y_hat)):\n",
        "        if(y_hat[i] >= 0.5):\n",
        "            y_temp[i] = 1\n",
        "        else:\n",
        "            y_temp[i] = 0\n",
        "\n",
        "\n",
        "    accuracy = 100*(np.sum(y == y_temp)/m)\n",
        "    print(\"Accuracy =\", accuracy)"
      ],
      "id": "8413db77"
    },
    {
      "cell_type": "markdown",
      "metadata": {
        "id": "115c9b39"
      },
      "source": [
        "#### Evaluation on training data"
      ],
      "id": "115c9b39"
    },
    {
      "cell_type": "code",
      "execution_count": 136,
      "metadata": {
        "colab": {
          "base_uri": "https://localhost:8080/"
        },
        "id": "9665f1d3",
        "outputId": "78d87ff7-bdbe-4b45-bc8b-31391d04e262"
      },
      "outputs": [
        {
          "output_type": "stream",
          "name": "stdout",
          "text": [
            "31/31 [==============================] - 2s 78ms/step\n"
          ]
        }
      ],
      "source": [
        "output1 = siamese_model.predict([x1_train, x2_train])"
      ],
      "id": "9665f1d3"
    },
    {
      "cell_type": "code",
      "execution_count": 137,
      "metadata": {
        "colab": {
          "base_uri": "https://localhost:8080/"
        },
        "id": "35463aec",
        "outputId": "262e2341-2861-4b49-a14a-7aee299e9ff1"
      },
      "outputs": [
        {
          "output_type": "stream",
          "name": "stdout",
          "text": [
            "Accuracy = 91.88345473465141\n"
          ]
        }
      ],
      "source": [
        "y_hat = tf.nn.sigmoid(output1)\n",
        "y = y_train\n",
        "model_eval(y, y_hat)"
      ],
      "id": "35463aec"
    },
    {
      "cell_type": "markdown",
      "metadata": {
        "id": "be37720f"
      },
      "source": [
        "#### Evaluation on test data"
      ],
      "id": "be37720f"
    },
    {
      "cell_type": "code",
      "execution_count": 138,
      "metadata": {
        "colab": {
          "base_uri": "https://localhost:8080/"
        },
        "id": "dcbae352",
        "outputId": "055dbd27-84b2-4f1a-bcf3-07aaf85d5d97"
      },
      "outputs": [
        {
          "output_type": "stream",
          "name": "stdout",
          "text": [
            "8/8 [==============================] - 1s 73ms/step\n"
          ]
        }
      ],
      "source": [
        "output2 = siamese_model.predict([x1_test, x2_test])"
      ],
      "id": "dcbae352"
    },
    {
      "cell_type": "code",
      "execution_count": 139,
      "metadata": {
        "colab": {
          "base_uri": "https://localhost:8080/"
        },
        "id": "be20bbe1",
        "outputId": "c6085e62-34c6-423f-d4c4-06689db271c7"
      },
      "outputs": [
        {
          "output_type": "stream",
          "name": "stdout",
          "text": [
            "Accuracy = 89.16666666666667\n"
          ]
        }
      ],
      "source": [
        "y_hat = tf.nn.sigmoid(output2)\n",
        "y = y_test\n",
        "model_eval(y, y_hat)"
      ],
      "id": "be20bbe1"
    },
    {
      "cell_type": "markdown",
      "metadata": {
        "id": "20aa9368"
      },
      "source": [
        "### Saving the model"
      ],
      "id": "20aa9368"
    },
    {
      "cell_type": "code",
      "execution_count": 135,
      "metadata": {
        "id": "2d10ae22"
      },
      "outputs": [],
      "source": [
        "siamese_model.save(\"/content/drive/MyDrive/OpenCV 2023/siamese_model.h5\")\n",
        "#3: 91.88, 89.16"
      ],
      "id": "2d10ae22"
    },
    {
      "cell_type": "markdown",
      "metadata": {
        "id": "c4174bd4"
      },
      "source": [
        "### Loading the model"
      ],
      "id": "c4174bd4"
    },
    {
      "cell_type": "code",
      "execution_count": 130,
      "metadata": {
        "id": "7b6d2e7a"
      },
      "outputs": [],
      "source": [
        "siamese_model = tf.keras.models.load_model('/content/drive/MyDrive/OpenCV 2023/siamese_model3.h5',\n",
        "                                   custom_objects={'L1Dist':L1Dist, 'BinaryCrossentropy':tf.losses.BinaryCrossentropy})"
      ],
      "id": "7b6d2e7a"
    },
    {
      "cell_type": "code",
      "execution_count": null,
      "metadata": {
        "id": "0f2dc23d"
      },
      "outputs": [],
      "source": [
        "import tensorflow as tf"
      ],
      "id": "0f2dc23d"
    },
    {
      "cell_type": "code",
      "source": [
        "tf. __version__"
      ],
      "metadata": {
        "colab": {
          "base_uri": "https://localhost:8080/",
          "height": 38
        },
        "id": "-FBrHWCvWac8",
        "outputId": "aa3544aa-7b40-4661-fff4-287efaf497bb"
      },
      "id": "-FBrHWCvWac8",
      "execution_count": null,
      "outputs": [
        {
          "output_type": "execute_result",
          "data": {
            "text/plain": [
              "'2.14.0'"
            ],
            "application/vnd.google.colaboratory.intrinsic+json": {
              "type": "string"
            }
          },
          "metadata": {},
          "execution_count": 9
        }
      ]
    },
    {
      "cell_type": "code",
      "source": [
        "model.history"
      ],
      "metadata": {
        "id": "AY-bD1scYO0e"
      },
      "id": "AY-bD1scYO0e",
      "execution_count": 56,
      "outputs": []
    },
    {
      "cell_type": "code",
      "source": [],
      "metadata": {
        "id": "-yB05F1MDB2m"
      },
      "id": "-yB05F1MDB2m",
      "execution_count": 54,
      "outputs": []
    }
  ],
  "metadata": {
    "accelerator": "GPU",
    "colab": {
      "provenance": []
    },
    "kernelspec": {
      "display_name": "Python 3",
      "name": "python3"
    },
    "language_info": {
      "codemirror_mode": {
        "name": "ipython",
        "version": 3
      },
      "file_extension": ".py",
      "mimetype": "text/x-python",
      "name": "python",
      "nbconvert_exporter": "python",
      "pygments_lexer": "ipython3",
      "version": "3.10.12"
    }
  },
  "nbformat": 4,
  "nbformat_minor": 5
}